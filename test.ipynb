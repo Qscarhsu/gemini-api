{
 "cells": [
  {
   "cell_type": "code",
   "execution_count": 2,
   "id": "8afacde1",
   "metadata": {},
   "outputs": [],
   "source": [
    "question = {\n",
    "    \"grade\": \"7A\",\n",
    "    \"subject\": \"數學\",\n",
    "    \"publisher\": \"翰林\",\n",
    "    \"chapter\": \"1-1正數與負數\",\n",
    "    \"topic\": \"正數與負數\",\n",
    "    \"knowledge_point\": [\"正負數的定義\", \"數線表示\"],\n",
    "    \"difficulty\": \"easy\",\n",
    "    \"question\": \"下列關於正數與負數的敘述，何者正確？\",\n",
    "    \"options\": {\n",
    "        \"A\": \"$0$ 是正數。\",\n",
    "        \"B\": \"$0$ 是負數。\",\n",
    "        \"C\": \"$0$ 既不是正數也不是負數。\",\n",
    "        \"D\": \"$0$ 是最小的正數。\",\n",
    "    },\n",
    "    \"answer\": \"C\",\n",
    "    \"explanation\": \"$0$ 既不是正數也不是負數，它是正負數的分界點。\",\n",
    "}\n",
    "\n",
    "\n",
    "\n",
    "student_anwser = \"D\"\n",
    "max_output_tokens = 512\n",
    "temperature = 1"
   ]
  },
  {
   "cell_type": "code",
   "execution_count": 10,
   "id": "8c8f8821",
   "metadata": {},
   "outputs": [],
   "source": [
    "prompt = f\"\"\"根據題目資料與使用者作答情況，請生成「學生學習狀況評估」的內容（請獨立一段文字輸出）。\n",
    "\n",
    "                內容須包含：\n",
    "                1. 分析學生對相關知識點的理解現況。\n",
    "                2. 說明學生可能存在的常見誤解或遇到的學習困難。\n",
    "                3. 根據題目所屬科目（國文、英文、數學、自然、社會），給出對應學科常見學習難點的具體建議。\n",
    "                題目資料：{question}\n",
    "                學生答案：{student_anwser}\"\"\""
   ]
  },
  {
   "cell_type": "code",
   "execution_count": 7,
   "id": "2ec957cf",
   "metadata": {},
   "outputs": [
    {
     "name": "stdout",
     "output_type": "stream",
     "text": [
      "從學生選擇答案D（$0$ 是最小的正數）來看，學生對於正數、負數以及$0$ 的基本定義與性質理解仍有待加強。儘管本題屬於基礎難度，主要考查『正負數的定義』，但學生未能選出正確答案C，顯示其對此核心概念掌握度不足。學生常見的誤解可能在於未能將$0$ 獨立於正數與負數之外，而將其歸類為正數的一種，甚至視為正數的起點。這顯示學生可能尚未完全建立起數線的概念，或混淆了自然數、整數等不同數系中$0$ 的角色與正負數的定義。對於數學科目的學習，建議學生應重新釐清『正數、負數與$0$』的嚴謹定義，強調$0$ 作為正負數分界點的特殊性。可多利用『數線』進行視覺化學習，理解$0$ 在數線上的位置及其左右兩側分別代表正數與負數的範圍，加深對數字相對大小與方向的認識。同時，結合日常生活中的實例（如溫度計刻度、海拔高度、收支計算等），幫助學生建立正負數與$0$ 的具體聯結，而非僅停留在抽象概念。多加練習辨別正負數與$0$ 的題目，並區分『非負數』與『正數』、『非正數』與『負數』的差異，避免混淆。\n"
     ]
    }
   ],
   "source": [
    "from google import genai\n",
    "\n",
    "client = genai.Client()\n",
    "\n",
    "response = client.models.generate_content(\n",
    "    model=\"gemini-2.5-flash\",\n",
    "    contents= prompt,\n",
    ")\n",
    "\n",
    "print(response.text)"
   ]
  },
  {
   "cell_type": "code",
   "execution_count": 14,
   "id": "5d5bab6b",
   "metadata": {},
   "outputs": [
    {
     "name": "stdout",
     "output_type": "stream",
     "text": [
      "[\n",
      "  {\n",
      "    \"recipe_name\": \"學生學習狀況評估\",\n",
      "    \"ingredients\": [\n",
      "      \"學生選答 D (0 是最小的正數)，與正確答案 C (0 既不是正數也不是負數) 不符。這表示學生對於正數、負數與 0 的明確定義理解不夠透徹，可能已了解 0 作為數線上的基準點，但未能正確掌握其非正非負的特殊性質，在區分 0 與正數的界線時存在概念混淆。\",\n",
      "      \"初學正負數時，學生常見的誤解是將 0 歸類為正數或負數。他們可能過度關注數字的大小比較，而忽略了 0 作為「中性數」的特殊地位。這導致學生易將 0 錯誤地視為「最小的正數」或「最大的負數」，未能完整理解 0 在數線上的分界作用及其獨立於正負數的性質。\",\n",
      "      \"針對數學科目中正負數的學習難點，建議如下：首先，應加強對基礎定義的理解與記憶，明確指出 0 既不是正數也不是負數，它是正負數的分界點。其次，透過數線的繪製與標示，視覺化正數、負數及 0 的位置與相互關係，幫助學生建立直觀理解。此外，可多進行數字分類練習，強化學生辨識正數、負數與 0 的能力。最後，結合日常生活情境（如溫度、海拔等）解釋正負數的應用，並多練習相關題目，以鞏固概念。\"\n",
      "    ]\n",
      "  }\n",
      "]\n"
     ]
    }
   ],
   "source": [
    "from google import genai\n",
    "from pydantic import BaseModel\n",
    "\n",
    "class Recipe(BaseModel):\n",
    "    recipe_name: str\n",
    "    ingredients: list[str]\n",
    "\n",
    "client = genai.Client()\n",
    "\n",
    "\n",
    "\n",
    "response = client.models.generate_content(\n",
    "    model=\"gemini-2.5-flash\",\n",
    "    contents=prompt,\n",
    "    config={\n",
    "        \"response_mime_type\": \"application/json\",\n",
    "        \"response_schema\": list[Recipe],\n",
    "    },\n",
    ")\n",
    "# Use the response as a JSON string.\n",
    "print(response.text)\n",
    "\n",
    "# Use instantiated objects.\n",
    "# my_recipes: list[Recipe] = response.parsed\n",
    "\n",
    "# print(my_recipes)"
   ]
  },
  {
   "cell_type": "code",
   "execution_count": 15,
   "id": "ff8841bf",
   "metadata": {},
   "outputs": [
    {
     "name": "stdout",
     "output_type": "stream",
     "text": [
      "學生在「正數與負數」此知識點上，可能對零的定義與特性存在理解上的混淆。學生誤選「$0$ 是最小的正數」，顯示其尚未完全掌握正數、負數與零之間的明確界線，可能誤以為零是正數的起始點，或是對於「最小的正數」此概念有偏差認知（實際上並沒有最小的正數）。在數學學習上，學生在建立數感時，常會因為缺乏具體概念的連結，而對抽象的數值定義感到困惑。針對此情況，建議學生回顧數線的概念，理解數線上的點所代表的意義，特別是零點作為正負數分界的重要性。可透過多練習數線的標示與判斷，並強調零既非正數亦非負數的特殊性，同時說明正數與負數的範圍都是無限延伸的，因此沒有所謂的「最小的正數」或「最大的負數」，以建立更清晰的數感。\n"
     ]
    }
   ],
   "source": [
    "from google import genai\n",
    "from google.genai import types\n",
    "\n",
    "client = genai.Client()\n",
    "\n",
    "response = client.models.generate_content(\n",
    "    model=\"gemini-2.5-flash\",\n",
    "    contents=prompt,\n",
    "    config=types.GenerateContentConfig(\n",
    "        thinking_config=types.ThinkingConfig(thinking_budget=0) # Disables thinking\n",
    "    ),\n",
    ")\n",
    "print(response.text)"
   ]
  },
  {
   "cell_type": "code",
   "execution_count": 51,
   "id": "3bd7d65f",
   "metadata": {},
   "outputs": [
    {
     "name": "stdout",
     "output_type": "stream",
     "text": [
      "{'錯誤': '429 You exceeded your current quota, please check your plan and billing details. For more information on this error, head to: https://ai.google.dev/gemini-api/docs/rate-limits. [violations {\\n  quota_metric: \"generativelanguage.googleapis.com/generate_content_free_tier_requests\"\\n  quota_id: \"GenerateRequestsPerDayPerProjectPerModel-FreeTier\"\\n  quota_dimensions {\\n    key: \"model\"\\n    value: \"gemini-1.5-pro\"\\n  }\\n  quota_dimensions {\\n    key: \"location\"\\n    value: \"global\"\\n  }\\n}\\nviolations {\\n  quota_metric: \"generativelanguage.googleapis.com/generate_content_free_tier_requests\"\\n  quota_id: \"GenerateRequestsPerMinutePerProjectPerModel-FreeTier\"\\n  quota_dimensions {\\n    key: \"model\"\\n    value: \"gemini-1.5-pro\"\\n  }\\n  quota_dimensions {\\n    key: \"location\"\\n    value: \"global\"\\n  }\\n}\\nviolations {\\n  quota_metric: \"generativelanguage.googleapis.com/generate_content_free_tier_input_token_count\"\\n  quota_id: \"GenerateContentInputTokensPerModelPerMinute-FreeTier\"\\n  quota_dimensions {\\n    key: \"model\"\\n    value: \"gemini-1.5-pro\"\\n  }\\n  quota_dimensions {\\n    key: \"location\"\\n    value: \"global\"\\n  }\\n}\\n, links {\\n  description: \"Learn more about Gemini API quotas\"\\n  url: \"https://ai.google.dev/gemini-api/docs/rate-limits\"\\n}\\n, retry_delay {\\n  seconds: 46\\n}\\n]'}\n"
     ]
    },
    {
     "ename": "TypeError",
     "evalue": "'dict' object is not callable",
     "output_type": "error",
     "traceback": [
      "\u001b[31m---------------------------------------------------------------------------\u001b[39m",
      "\u001b[31mTypeError\u001b[39m                                 Traceback (most recent call last)",
      "\u001b[36mCell\u001b[39m\u001b[36m \u001b[39m\u001b[32mIn[51]\u001b[39m\u001b[32m, line 28\u001b[39m\n\u001b[32m     23\u001b[39m student_evaluation = student_learning_evaluation(\n\u001b[32m     24\u001b[39m     question, student_anwser, temperature, max_output_tokens\n\u001b[32m     25\u001b[39m )\n\u001b[32m     26\u001b[39m \u001b[38;5;28mprint\u001b[39m(student_evaluation)\n\u001b[32m---> \u001b[39m\u001b[32m28\u001b[39m solution_guidance = \u001b[43msolution_guidance\u001b[49m\u001b[43m(\u001b[49m\n\u001b[32m     29\u001b[39m \u001b[43m    \u001b[49m\u001b[43mquestion\u001b[49m\u001b[43m,\u001b[49m\u001b[43m \u001b[49m\u001b[43mstudent_anwser\u001b[49m\u001b[43m,\u001b[49m\u001b[43m \u001b[49m\u001b[43mtemperature\u001b[49m\u001b[43m,\u001b[49m\u001b[43m \u001b[49m\u001b[43mmax_output_tokens\u001b[49m\u001b[43m)\u001b[49m\n\u001b[32m     31\u001b[39m \u001b[38;5;28mprint\u001b[39m(solution_guidance)\n\u001b[32m     33\u001b[39m \u001b[38;5;66;03m# student_learning_evaluation = solution_guidance(question, student_anwser, temperature, max_output_tokens)\u001b[39;00m\n",
      "\u001b[31mTypeError\u001b[39m: 'dict' object is not callable"
     ]
    }
   ],
   "source": [
    "question = {\n",
    "    \"grade\": \"7A\",\n",
    "    \"subject\": \"數學\",\n",
    "    \"publisher\": \"翰林\",\n",
    "    \"chapter\": \"1-1正數與負數\",\n",
    "    \"topic\": \"正數與負數\",\n",
    "    \"knowledge_point\": [\"正負數的定義\", \"數線表示\"],\n",
    "    \"difficulty\": \"easy\",\n",
    "    \"question\": \"下列關於正數與負數的敘述，何者正確？\",\n",
    "    \"options\": {\n",
    "        \"A\": \"$0$ 是正數。\",\n",
    "        \"B\": \"$0$ 是負數。\",\n",
    "        \"C\": \"$0$ 既不是正數也不是負數。\",\n",
    "        \"D\": \"$0$ 是最小的正數。\",\n",
    "    },\n",
    "    \"answer\": \"C\",\n",
    "    \"explanation\": \"$0$ 既不是正數也不是負數，它是正負數的分界點。\",\n",
    "}\n",
    "student_anwser = \"D\"\n",
    "max_output_tokens = 206\n",
    "temperature = 1\n",
    "\n",
    "student_evaluation = student_learning_evaluation(\n",
    "    question, student_anwser, temperature, max_output_tokens\n",
    ")\n",
    "print(student_evaluation)\n",
    "\n",
    "solution_guidance = solution_guidance(\n",
    "    question, student_anwser, temperature, max_output_tokens)\n",
    "\n",
    "print(solution_guidance)\n",
    "\n",
    "# student_learning_evaluation = solution_guidance(question, student_anwser, temperature, max_output_tokens)"
   ]
  }
 ],
 "metadata": {
  "kernelspec": {
   "display_name": "Python 3",
   "language": "python",
   "name": "python3"
  },
  "language_info": {
   "codemirror_mode": {
    "name": "ipython",
    "version": 3
   },
   "file_extension": ".py",
   "mimetype": "text/x-python",
   "name": "python",
   "nbconvert_exporter": "python",
   "pygments_lexer": "ipython3",
   "version": "3.12.0"
  }
 },
 "nbformat": 4,
 "nbformat_minor": 5
}
